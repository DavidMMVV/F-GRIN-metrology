{
 "cells": [
  {
   "cell_type": "markdown",
   "id": "4da9ed04",
   "metadata": {},
   "source": [
    "## First approach to index retrieval"
   ]
  },
  {
   "cell_type": "markdown",
   "id": "7b223baf",
   "metadata": {},
   "source": [
    "First I define my profile:"
   ]
  },
  {
   "cell_type": "code",
   "execution_count": null,
   "id": "986b0572",
   "metadata": {},
   "outputs": [],
   "source": [
    "import os\n",
    "import numpy as np\n",
    "import torch\n",
    "import torch.nn as nn\n",
    "import matplotlib.pyplot as plt \n",
    "from tqdm import tqdm\n",
    "\n",
    "device = torch.device(\"cuda\" if torch.cuda.is_available() else \"cpu\")\n",
    "print(f\"Running on {device}.\")\n",
    "# Define the grid\n",
    "pix_size = 1e-6\n",
    "W, H = (100, 100)\n",
    "extent_obj = (pix_size * np.array([-W/2, W/2, -H/2, H/2]))\n",
    "\n",
    "Y, X = np.mgrid[extent_obj[2]:extent_obj[3]:H*1j, \n",
    "                extent_obj[0]:extent_obj[1]:W*1j]\n",
    "\n",
    "X = torch.tensor(X, device=device)\n",
    "Y = torch.tensor(Y, device=device)\n",
    "\n",
    "# Create the distribution of the sample\n",
    "r1 = 1e-5\n",
    "obj = torch.ones(H,W, device=device)\n",
    "cond_circ1 = (X**2 + Y**2) <= r1**2\n",
    "obj[cond_circ1] = 1.2\n",
    "\n",
    "d = 2e-6\n",
    "λ = 535e-9\n",
    "sample = torch.exp(2j * np.pi * obj * d / λ)\n",
    "\n",
    "fig, sub = plt.subplots(1,2, figsize = (10,5))\n",
    "sub[0].set_title(\"Sample index of refraction\")\n",
    "im1 = sub[0].imshow(obj.cpu(), extent=extent_obj*1e6)\n",
    "plt.colorbar(im1, ax=sub[0])\n",
    "sub[1].set_title(\"Total phase\")\n",
    "#im2 = sub[1].imshow(2 * np.pi * obj * d / λ, extent=extent_obj*1e6)\n",
    "im2 = sub[1].imshow(2 * np.pi * obj.cpu() * d / λ, extent=extent_obj*1e6)\n",
    "plt.colorbar(im2, ax=sub[1])\n",
    "for i in range(2):\n",
    "    sub[i].set_xlabel(\"$x(\\\\mu m)$\")\n",
    "    sub[i].set_ylabel(\"$y(\\\\mu m)$\")\n",
    "plt.show()"
   ]
  },
  {
   "cell_type": "markdown",
   "id": "627a6caa",
   "metadata": {},
   "source": [
    "Now I retrieve the index of refraction from the phase."
   ]
  },
  {
   "cell_type": "code",
   "execution_count": null,
   "id": "13cc298c",
   "metadata": {},
   "outputs": [],
   "source": [
    "def complex_mse_loss(input, target):\n",
    "    return ((input.real - target.real)**2 + (input.imag - target.imag)**2).mean()\n",
    "\n",
    "guess = torch.ones(H,W, device=device, requires_grad=True)\n",
    "loss_f = complex_mse_loss\n",
    "d = 1e-6\n",
    "λ = 535e-9\n",
    "\n",
    "num_steps = 1000\n",
    "optimizer = torch.optim.Adam([guess], lr=1e-3)\n",
    "\n",
    "with tqdm(range(num_steps), desc=\"Optimizing\") as pbar:\n",
    "    for step in pbar:\n",
    "        optimizer.zero_grad()\n",
    "        prop_guess = torch.exp(2j * np.pi * guess * d / λ)\n",
    "        loss = complex_mse_loss(prop_guess, sample)\n",
    "        loss.backward()\n",
    "        optimizer.step()\n",
    "        \n",
    "        # Update tqdm postfix with current loss\n",
    "        pbar.set_postfix(loss=f\"{loss.item():.6e}\")"
   ]
  },
  {
   "cell_type": "code",
   "execution_count": null,
   "id": "50ec2683",
   "metadata": {},
   "outputs": [],
   "source": [
    "fig, sub = plt.subplots(1,2, figsize = (10,5))\n",
    "sub[0].set_title(\"Sample index of refraction\")\n",
    "im1 = sub[0].imshow(obj.cpu(), extent=extent_obj*1e6)\n",
    "plt.colorbar(im1, ax=sub[0])\n",
    "sub[1].set_title(\"Reconstructed index of refraction\")\n",
    "#im2 = sub[1].imshow(2 * np.pi * obj * d / λ, extent=extent_obj*1e6)\n",
    "im2 = sub[1].imshow(guess.cpu().detach().numpy(), extent=extent_obj*1e6)\n",
    "plt.colorbar(im2, ax=sub[1])\n",
    "for i in range(2):\n",
    "    sub[i].set_xlabel(\"$x(\\\\mu m)$\")\n",
    "    sub[i].set_ylabel(\"$y(\\\\mu m)$\")\n",
    "plt.show()"
   ]
  },
  {
   "cell_type": "code",
   "execution_count": null,
   "id": "11590434",
   "metadata": {},
   "outputs": [],
   "source": []
  }
 ],
 "metadata": {
  "kernelspec": {
   "display_name": "f-grin-metrology",
   "language": "python",
   "name": "python3"
  },
  "language_info": {
   "codemirror_mode": {
    "name": "ipython",
    "version": 3
   },
   "file_extension": ".py",
   "mimetype": "text/x-python",
   "name": "python",
   "nbconvert_exporter": "python",
   "pygments_lexer": "ipython3",
   "version": "3.13.5"
  }
 },
 "nbformat": 4,
 "nbformat_minor": 5
}
